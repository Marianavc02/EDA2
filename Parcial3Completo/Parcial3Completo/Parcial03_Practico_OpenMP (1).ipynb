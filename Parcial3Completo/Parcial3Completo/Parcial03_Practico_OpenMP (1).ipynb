{
  "cells": [
    {
      "cell_type": "markdown",
      "metadata": {
        "id": "MwJhC8tdBsyt"
      },
      "source": [
        "<h1 align=\"center\">Estructura de Datos y Algoritmos II</h1>\n",
        "<h1 align=\"center\">Evaluación 03 - Componente Práctico</h1>\n",
        "<h1 align=\"center\">Ejercicio OpenMP: Cálculo de Integrales</h1>\n",
        "<h1 align=\"center\">2024</h1>\n",
        "<h1 align=\"center\">MEDELLÍN - COLOMBIA </h1>"
      ]
    },
    {
      "cell_type": "markdown",
      "metadata": {
        "id": "k7Fp66aBBsyw"
      },
      "source": [
        "# **Cálculo de Integrales por los Métodos de Simpson en Paralelo usando OpenMP**"
      ]
    },
    {
      "cell_type": "markdown",
      "metadata": {
        "id": "QyCUHxUeBsyx"
      },
      "source": [
        "Este ejemplo tiene como objetivo explicar el **método de Simpson 1/3** para el cálculo de integrales definidas, desarrollando el concepto teórico, un algoritmo en pseudocódigo de la versión secuencial, y finalmente la versión paralela utilizando **OpenMP**."
      ]
    },
    {
      "cell_type": "markdown",
      "metadata": {
        "id": "fFnIVPeNBsyy"
      },
      "source": [
        "## **1. Aspectos Teóricos del Método de Simpson 1/3**"
      ]
    },
    {
      "cell_type": "markdown",
      "metadata": {
        "id": "QTtrL_8iBsyy"
      },
      "source": [
        "El **método de Simpson 1/3** es una técnica numérica para aproximar integrales definidas de funciones continuas. Se basa en la idea de aproximar el área bajo la curva de una función mediante el uso de parábolas, en lugar de rectángulos (como en la regla del trapecio). El método se aplica dividiendo el intervalo de integración en un número par de subintervalos y ajustando una parábola a cada tres puntos consecutivos.\n",
        "\n",
        "**Fórmula del Método de Simpson 1/3**\n",
        "\n",
        "Dada una función $ f(x) $, la integral definida:\n",
        "\n",
        "$$\n",
        "I = \\int_{a}^{b} f(x) \\, dx\n",
        "$$\n",
        "\n",
        "se aproxima mediante el método de Simpson 1/3 con la siguiente fórmula:\n",
        "\n",
        "$$\n",
        "I \\approx \\frac{h}{3} \\left[ f(a) + 4 \\sum_{i=1, \\text{impar}}^{n-1} f(x_i) + 2 \\sum_{i=2, \\text{par}}^{n-2} f(x_i) + f(b) \\right]\n",
        "$$\n",
        "\n",
        "donde:\n",
        "- $ a $ y $ b $ son los límites de integración.\n",
        "- $ n $ es el número de subintervalos (debe ser par).\n",
        "- $ h = \\frac{b - a}{n} $ es el ancho de cada subintervalo.\n",
        "- $ x_i = a + i \\cdot h $ es el punto de evaluación dentro del intervalo.\n",
        "\n",
        "### **Conceptos Importantes**:\n",
        "1. Los puntos de la función $ f(x) $ se evalúan en $ a $ (límite inferior) y $ b $ (límite superior), así como en puntos impares y pares dentro del intervalo.\n",
        "2. Los términos impares (multiplicados por 4) son los puntos donde la parábola alcanza su máxima altura.\n",
        "3. Los términos pares (multiplicados por 2) corresponden a los puntos intermedios entre las parábolas.\n"
      ]
    },
    {
      "cell_type": "markdown",
      "metadata": {
        "id": "4SpEP7zIBsyz"
      },
      "source": [
        "## **2. Desarrollo del Algoritmo en Pseudocódigo (Versión Secuencial)**"
      ]
    },
    {
      "cell_type": "markdown",
      "metadata": {
        "id": "5BU53Wb1Bsy0"
      },
      "source": [
        "**Pseudocódigo Secuencial del Método de Simpson 1/3**\n",
        "\n",
        "```plaintext\n",
        "Entrada: a (límite inferior), b (límite superior), n (número de subintervalos, debe ser par)\n",
        "Salida: Aprox. de la integral I\n",
        "\n",
        "1. Calcular el tamaño del subintervalo:\n",
        "   h = (b - a) / n\n",
        "\n",
        "2. Inicializar las sumas:\n",
        "   sum_odd = 0.0  // Suma de los términos impares\n",
        "   sum_even = 0.0 // Suma de los términos pares\n",
        "\n",
        "3. Calcular los términos impares (índices 1, 3, 5,...):\n",
        "   Para i = 1 hasta n-1 con incremento de 2:\n",
        "       sum_odd += f(a + i * h)\n",
        "\n",
        "4. Calcular los términos pares (índices 2, 4, 6,...):\n",
        "   Para i = 2 hasta n-2 con incremento de 2:\n",
        "       sum_even += f(a + i * h)\n",
        "\n",
        "5. Aplicar la fórmula de Simpson:\n",
        "   I = (h / 3) * (f(a) + 4 * sum_odd + 2 * sum_even + f(b))\n",
        "\n",
        "6. Retornar I\n",
        "```\n",
        "\n",
        "**Descripción del Algoritmo Secuencial:**\n",
        "1. El intervalo $ [a, b] $ se divide en $ n $ subintervalos de igual tamaño $ h $.\n",
        "2. Se calculan por separado las sumas de los términos impares y pares.\n",
        "3. Finalmente, se aplica la fórmula de Simpson para obtener la aproximación de la integral.\n",
        "\n",
        "**Código en C**"
      ]
    },
    {
      "cell_type": "code",
      "execution_count": null,
      "metadata": {
        "vscode": {
          "languageId": "c"
        },
        "colab": {
          "base_uri": "https://localhost:8080/",
          "height": 106
        },
        "id": "v7ABlBuxBsy0",
        "outputId": "ee024297-09a8-4d22-ac61-19eb3f0ef8b6"
      },
      "outputs": [
        {
          "output_type": "error",
          "ename": "SyntaxError",
          "evalue": "invalid syntax (<ipython-input-2-289c3cd23880>, line 3)",
          "traceback": [
            "\u001b[0;36m  File \u001b[0;32m\"<ipython-input-2-289c3cd23880>\"\u001b[0;36m, line \u001b[0;32m3\u001b[0m\n\u001b[0;31m    //Definir la función que queremos integrar\u001b[0m\n\u001b[0m    ^\u001b[0m\n\u001b[0;31mSyntaxError\u001b[0m\u001b[0;31m:\u001b[0m invalid syntax\n"
          ]
        }
      ],
      "source": [
        "#include <stdio.h>\n",
        "#include <math.h>\n",
        "#include <omp.h>\n",
        "//Definir la función que queremos integrar\n",
        "double f(double x) {\n",
        "    return exp(-x * x);  // f(x) = e^(-x^2)\n",
        "}\n",
        "\n",
        "//Implementación secuencial del método de Simpson 1/3\n",
        "double simpson_sequential(double a, double b, int n) {\n",
        "    double h = (b - a) / n;\n",
        "    double sum_odd = 0.0, sum_even = 0.0, result = 0.0;\n",
        "\n",
        "    // Calcular términos impares\n",
        "    for (int i = 1; i <= n - 1; i += 2) {\n",
        "        sum_odd += f(a + i * h);\n",
        "    }\n",
        "\n",
        "    // Calcular términos pares\n",
        "    for (int i = 2; i <= n - 2; i += 2) {\n",
        "        sum_even += f(a + i * h);\n",
        "    }\n",
        "\n",
        "    // Aplicar la fórmula de Simpson\n",
        "    result = (h / 3) * (f(a) + 4 * sum_odd + 2 * sum_even + f(b));\n",
        "\n",
        "    return result;\n",
        "}\n",
        "\n",
        "int main() {\n",
        "    double a = -1.0;  // Límite inferior\n",
        "    double b = 1.0;  // Límite superior\n",
        "    int n = 1000000; // Número de subintervalos (debe ser par)\n",
        "\n",
        "    // Medir el tiempo de ejecución\n",
        "    double start_time = omp_get_wtime();\n",
        "\n",
        "    double result = simpson_sequential(a, b, n);\n",
        "\n",
        "    double end_time = omp_get_wtime();\n",
        "\n",
        "    // Imprimir el resultado y el tiempo de ejecución\n",
        "    printf(\"Resultado de la integral (secuencial): %.10f\\n\", result);\n",
        "    printf(\"Tiempo de ejecución (secuencial): %.6f segundos\\n\", end_time - start_time);\n",
        "\n",
        "    return 0;\n",
        "}"
      ]
    },
    {
      "cell_type": "markdown",
      "metadata": {
        "id": "qup1QPTpBsy2"
      },
      "source": [
        "## **3. Identificación de Bloques Susceptibles de Paralelización**"
      ]
    },
    {
      "cell_type": "markdown",
      "metadata": {
        "id": "2OwwAjgpBsy3"
      },
      "source": [
        "El cálculo de los términos impares y pares en los pasos 3 y 4 del pseudocódigo secuencial puede realizarse de forma independiente. Cada término es calculado a partir de la evaluación de la función en diferentes puntos del intervalo, por lo que estas evaluaciones no dependen unas de otras. Por lo tanto, **podemos paralelizar los bucles** que calculan estas sumas.\n",
        "\n",
        "**Por qué paralelizar estos bloques**:\n",
        "- Los bucles que suman los términos impares y pares realizan cálculos independientes en cada iteración, lo que los hace ideales para ser distribuidos entre diferentes *threads*.\n",
        "- La operación de suma en paralelo requiere una técnica de sincronización como `reduction` para evitar condiciones de carrera al acumular los resultados.\n"
      ]
    },
    {
      "cell_type": "markdown",
      "metadata": {
        "id": "x2LVuJ-nBsy3"
      },
      "source": [
        "## **4. Algoritmo en Pseudocódigo Paralelo con OpenMP**"
      ]
    },
    {
      "cell_type": "markdown",
      "metadata": {
        "id": "_uN5s_IcBsy4"
      },
      "source": [
        "**Pseudocódigo Paralelo del Método de Simpson 1/3**\n",
        "\n",
        "```plaintext\n",
        "Entrada: a (límite inferior), b (límite superior), n (número de subintervalos, debe ser par)\n",
        "Salida: Aprox. de la integral I\n",
        "\n",
        "1. Calcular el tamaño del subintervalo:\n",
        "   h = (b - a) / n\n",
        "\n",
        "2. Inicializar las sumas:\n",
        "   sum_odd = 0.0  // Suma de los términos impares\n",
        "   sum_even = 0.0 // Suma de los términos pares\n",
        "\n",
        "3. Paralelizar el cálculo de los términos impares:\n",
        "   #pragma omp parallel for reduction(+:sum_odd)\n",
        "   Para i = 1 hasta n-1 con incremento de 2:\n",
        "       sum_odd += f(a + i * h)\n",
        "\n",
        "4. Paralelizar el cálculo de los términos pares:\n",
        "   #pragma omp parallel for reduction(+:sum_even)\n",
        "   Para i = 2 hasta n-2 con incremento de 2:\n",
        "       sum_even += f(a + i * h)\n",
        "\n",
        "5. Aplicar la fórmula de Simpson:\n",
        "   I = (h / 3) * (f(a) + 4 * sum_odd + 2 * sum_even + f(b))\n",
        "\n",
        "6. Retornar I\n",
        "```\n",
        "\n",
        "**Explicación del Algoritmo Paralelo**:\n",
        "1. Los bucles que calculan las sumas de los términos impares y pares se paralelizan usando `#pragma omp parallel for` con la cláusula `reduction(+:sum_odd)` y `reduction(+:sum_even)` para acumular los resultados de forma segura entre los *threads*.\n",
        "2. Cada *thread* calcula una parte de la suma, y los resultados parciales se combinan al final de cada bucle."
      ]
    },
    {
      "cell_type": "markdown",
      "metadata": {
        "id": "9xffyUL_Bsy4"
      },
      "source": [
        "## **5. Implementación del código en Paralelizada en C y empleando OpenMP**"
      ]
    },
    {
      "cell_type": "code",
      "execution_count": null,
      "metadata": {
        "vscode": {
          "languageId": "c"
        },
        "id": "ZZtcYTn_Bsy5"
      },
      "outputs": [],
      "source": [
        "#include <stdio.h>\n",
        "#include <math.h>\n",
        "#include <omp.h>  // Para ejecutar en paralelo\n",
        "\n",
        "// Definir la función que queremos integrar\n",
        "double f(double x) {\n",
        "    return exp(-x * x);  // f(x) = e^(-x^2)\n",
        "}\n",
        "\n",
        "// Implementación paralela del método de Simpson 1/3\n",
        "double simpson_parallel(double a, double b, int n) {\n",
        "    // 1. Calcular el tamaño del subintervalo\n",
        "    double h = (b - a) / n;\n",
        "\n",
        "    // 2. Inicializar las sumas\n",
        "    double sum_odd = 0.0;  // Suma de los términos impares\n",
        "    double sum_even = 0.0; // Suma de los términos pares\n",
        "\n",
        "    // 3. Paralelizar el cálculo de los términos impares\n",
        "    #pragma omp parallel for reduction(+:sum_odd)\n",
        "    for (int i = 1; i <= n - 1; i += 2) {\n",
        "        sum_odd += f(a + i * h);\n",
        "    }\n",
        "\n",
        "    // 4. Paralelizar el cálculo de los términos pares\n",
        "    #pragma omp parallel for reduction(+:sum_even)\n",
        "    for (int i = 2; i <= n - 2; i += 2) {\n",
        "        sum_even += f(a + i * h);\n",
        "    }\n",
        "\n",
        "    // 5. Aplicar la fórmula de Simpson\n",
        "    double result = (h / 3) * (f(a) + 4 * sum_odd + 2 * sum_even + f(b));\n",
        "\n",
        "    // 6. Retornar I\n",
        "    return result;\n",
        "}\n",
        "\n",
        "int main() {\n",
        "    double a = -1.0;  // Límite inferior\n",
        "    double b = 1.0;   // Límite superior\n",
        "    int n = 1000000;  // Número de subintervalos (debe ser par)\n",
        "\n",
        "    // Medir el tiempo de ejecución\n",
        "    double start_time = omp_get_wtime();\n",
        "\n",
        "    double result = simpson_parallel(a, b, n);\n",
        "\n",
        "    double end_time = omp_get_wtime();\n",
        "\n",
        "    // Imprimir el resultado y el tiempo de ejecución\n",
        "    printf(\"Resultado de la integral (paralela): %.10f\\n\", result);\n",
        "    printf(\"Tiempo de ejecucion (paralela): %.6f segundos\\n\", end_time - start_time);\n",
        "\n",
        "    return 0;\n",
        "}\n",
        "\n"
      ]
    },
    {
      "cell_type": "markdown",
      "source": [
        "****"
      ],
      "metadata": {
        "id": "HDPNlY-UX9ie"
      }
    },
    {
      "cell_type": "markdown",
      "source": [
        " ### **El metodo Simpson 3/8 simple**\n",
        "\n",
        "El método de Simpson 3/8 es una técnica numérica utilizada para aproximar integrales definidas de funciones continuas. A diferencia del método de Simpson 1/3, que utiliza parábolas ajustadas a tres puntos, el método de Simpson 3/8 ajusta cúbicas a cuatro puntos consecutivos, proporcionando una mejor aproximación para ciertas funciones.\n",
        "Fórmula del Método de Simpson 3/8:\n",
        "\n",
        "Dada una función \\( f(x) \\), la integral definida:\n",
        "$$\n",
        "\\\n",
        "I = \\int_a^b f(x) \\, dx\n",
        "\\\n",
        "$$\n",
        "\n",
        "se aproxima mediante el método de Simpson 3/8 con la siguiente fórmula:\n",
        "$$\n",
        "\\\n",
        "I \\approx \\frac{3h}{8} \\left[ f(a) + 3 \\sum_{i=1}^{n-1} f(x_i) + 3 \\sum_{i=1}^{n/3} f(x_{3i}) + f(b) \\right]\n",
        "\\\n",
        "$$\n",
        "donde:\n",
        "\n",
        "- \\( a \\) y \\( b \\) son los límites de integración.\n",
        "- \\( n \\) es el número de subintervalos (debe ser un múltiplo de 3).\n",
        "-$$ \\ h = \\frac{b - a}{n} \\ $$ es el ancho de cada subintervalo.\n",
        "- $$\\ x_i = a + i \\cdot h \\ $$son los puntos de evaluación dentro del intervalo.\n",
        "\n",
        "#### Conceptos Importantes:\n",
        "\n",
        "1. **Intervalos y subintervalos**: El método requiere que el número de subintervalos \\( n \\) sea un múltiplo de 3, ya que se basa en grupos de cuatro puntos consecutivos.\n",
        "\n",
        "2. **Evaluación de puntos**:\n",
        "   - La función \\( f(x) \\) se evalúa en el límite inferior \\( a \\) y el límite superior \\( b \\), así como en todos los puntos intermedios.\n",
        "   - Los términos en la suma que se multiplican por 3 se refieren a las evaluaciones de la función en cada uno de los puntos $$( x_i ) y ( x_{3i} )$$ lo que contribuye a ajustar la curva de manera más precisa.\n",
        "\n",
        "3. **Parábolas ajustadas a cuatro puntos**: A diferencia del método de Simpson 1/3, que utiliza parábolas, el método de Simpson 3/8 utiliza una combinación de cúbicas que se ajustan a cuatro puntos consecutivos. Esto permite una mejor aproximación para funciones que tienen curvaturas más complejas.\n",
        "\n",
        "4. **Aplicación y precisión**: Este método es especialmente útil cuando se requiere mayor precisión en la aproximación de integrales y es adecuado para funciones que son continuas y suaves en el intervalo de integración.\n",
        "\n",
        "**Principales diferencias entre el 3/8 simple y compuesto:**\n",
        "\n",
        " El método simple se usa para un solo intervalo, mientras que el compuesto se aplica a un intervalo que se divide en varios subintervalos.\n",
        "\n",
        "El método compuesto es más flexible y preciso para funciones complicadas, ya que se puede aplicar a intervalos más grandes mediante la subdivisión.\n",
        "\n",
        "En general, el método compuesto proporciona una mejor aproximación a la integral al evaluar la función en más puntos a lo largo del intervalo.\n"
      ],
      "metadata": {
        "id": "FtC6S9jKddLK"
      }
    },
    {
      "cell_type": "code",
      "source": [
        "#include <stdio.h>\n",
        "#include <math.h>\n",
        "#include <omp.h>  // Para ejecutar en paralelo\n",
        "\n",
        "// Definir la función que queremos integrar\n",
        "double f(double x) {\n",
        "    return exp(-x * x);  // f(x) = e^(-x^2)\n",
        "}\n",
        "\n",
        "// Implementación del método de Simpson 3/8 (secuencial o paralelo)\n",
        "double simpson38(double a, double b, int n, int parallel) {\n",
        "    if (n % 3 != 0) {\n",
        "        printf(\"n debe ser múltiplo de 3.\\n\");\n",
        "        return 0.0;\n",
        "    }\n",
        "\n",
        "    double h = (b - a) / n;\n",
        "    double sum = f(a) + f(b);\n",
        "    double sum_even = 0.0, sum_odd = 0.0;\n",
        "\n",
        "    if (parallel) {\n",
        "        // Calcular términos impares y pares en paralelo\n",
        "        #pragma omp parallel for reduction(+:sum_even, sum_odd)\n",
        "        for (int i = 1; i < n; i++) {\n",
        "            double x = a + i * h;\n",
        "            if (i % 3 == 0) {\n",
        "                sum_even += f(x);\n",
        "            } else {\n",
        "                sum_odd += f(x);\n",
        "            }\n",
        "        }\n",
        "    } else {\n",
        "        // Calcular términos impares y pares de forma secuencial\n",
        "        for (int i = 1; i < n; i++) {\n",
        "            double x = a + i * h;\n",
        "            if (i % 3 == 0) {\n",
        "                sum_even += f(x);\n",
        "            } else {\n",
        "                sum_odd += f(x);\n",
        "            }\n",
        "        }\n",
        "    }\n",
        "\n",
        "    sum += 2 * sum_even + 3 * sum_odd;\n",
        "\n",
        "    // Aplicar la fórmula de Simpson 3/8\n",
        "    double result = (3 * h / 8) * sum;\n",
        "    return result;\n",
        "}\n",
        "\n",
        "int main() {\n",
        "    double a = -1.0;  // Límite inferior\n",
        "    double b = 1.0;   // Límite superior\n",
        "    int n = 12;       // Número de subintervalos (debe ser múltiplo de 3)\n",
        "\n",
        "    // Medir el tiempo de ejecución para la implementación secuencial\n",
        "    double start_time = omp_get_wtime();\n",
        "    double result_secuencial = simpson38(a, b, n, 0); // 0 para secuencial\n",
        "    double end_time = omp_get_wtime();\n",
        "    printf(\"Resultado de la integral (secuencial): %.10f\\n\", result_secuencial);\n",
        "    printf(\"Tiempo de ejecucion (secuencial): %.6f segundos\\n\", end_time - start_time);\n",
        "\n",
        "    // Medir el tiempo de ejecución para la implementación paralela\n",
        "    start_time = omp_get_wtime();\n",
        "    double result_paralelo = simpson38(a, b, n, 1); // 1 para paralelo\n",
        "    end_time = omp_get_wtime();\n",
        "    printf(\"Resultado de la integral (paralela): %.10f\\n\", result_paralelo);\n",
        "    printf(\"Tiempo de ejecucion (paralela): %.6f segundos\\n\", end_time - start_time);\n",
        "\n",
        "    return 0;\n",
        "}"
      ],
      "metadata": {
        "id": "-GlrBnNzu5Ye"
      },
      "execution_count": null,
      "outputs": []
    },
    {
      "cell_type": "markdown",
      "source": [
        "### Explicacion del paralelismo en el Método de Simpson 3/8 simple\n",
        "\n",
        "Esta implementación es especialmente útil para funciones complejas y grandes intervalos de integración, donde el tiempo de cómputo puede ser considerablemente largo. Al aprovechar los recursos del hardware, se logra un método más eficiente para aproximar integrales definidas.\n",
        "\n",
        "#### Proceso de Implementación:\n",
        "\n",
        "1. **División del Trabajo**: En lugar de calcular la integral en un solo hilo, el trabajo se distribuye entre varios hilos. Esto se logra mediante la directiva pragma #omp parallel, que crea un entorno de ejecución paralelo.\n",
        "\n",
        "2. **Suma Local**: Cada hilo calcula una suma local para su parte del intervalo. Esto se hace en un bucle donde se evalúan los puntos de la función \\( f(x) \\) y se acumulan los resultados. Las sumas locales se utilizan para evitar conflictos entre hilos.\n",
        "\n",
        "3. **Reducción de Resultados**: Al finalizar los cálculos, las sumas locales se combinan en una suma global mediante la directiva #pragma omp atomic, asegurando que la operación sea segura en un entorno paralelo.\n",
        "\n",
        "4. **Ejecución Concurrente**: La paralelización permite que múltiples hilos realicen cálculos simultáneamente, lo que resulta en una reducción significativa del tiempo de ejecución, especialmente en sistemas con múltiples núcleos.\n",
        "\n",
        "\n"
      ],
      "metadata": {
        "id": "Q4cXtrmjwTcw"
      }
    },
    {
      "cell_type": "markdown",
      "source": [
        "###**El método de Simpson 1/3 compuesto**\n",
        "\n",
        "extiende el método simple dividiendo el intervalo ([a, b]) en (n) subintervalos (donde (n) es par) y aplicando el método de Simpson 1/3 a cada subintervalo. La fórmula es:\n",
        "$$\n",
        "\\int_{a}^{b} f(x) \\, dx \\approx \\frac{h}{3} \\left[ f(x_0) + 4 \\sum_{i=1,3,5,\\ldots}^{n-1} f(x_i) + 2 \\sum_{i=2,4,6,\\ldots}^{n-2} f(x_i) + f(x_n) \\right]\n",
        "$$\n",
        "**Diferencias Clave:**\n",
        "\n",
        "Simpson 1/3 Simple: Se aplica a un solo intervalo ([a, b]) y es adecuado para funciones suaves en intervalos pequeños.\n",
        "Simpson 1/3 Compuesto: Divide el intervalo ([a, b]) en múltiples subintervalos y aplica el método de Simpson 1/3 a cada uno, lo que mejora la precisión para funciones más complejas o intervalos más grandes.\n",
        "\n",
        "**Usos:**\n",
        "\n",
        "cuando necesitas una mayor precisión en la integración numérica de una función sobre un intervalo ([a, b]). Aquí hay algunas situaciones específicas en las que es especialmente útil:\n",
        "\n",
        "Funciones Complejas: Cuando la función que estás integrando tiene variaciones significativas o no es suave en todo el intervalo. Dividir el intervalo en subintervalos más pequeños permite capturar mejor estas variaciones.\n",
        "Intervalos Grandes: Si el intervalo ([a, b]) es grande, aplicar el método de Simpson 1/3 simple puede no ser suficiente para obtener una buena aproximación. El método compuesto mejora la precisión al aplicar la fórmula de Simpson en cada subintervalo.\n",
        "\n",
        "Requisitos de Precisión: Cuando necesitas una precisión más alta en el resultado de la integral. Al aumentar el número de subintervalos (n), puedes reducir el error de la aproximación"
      ],
      "metadata": {
        "id": "TNhc1IzkVmsP"
      }
    },
    {
      "cell_type": "code",
      "source": [
        "#include <cmath>\n",
        "#include <cstdio>\n",
        "#include <omp.h>  // Para ejecutar el codigo en paralelo\n",
        "\n",
        "\n",
        "double f(double x) {\n",
        "    return exp(-x * x);  // f(x) = e^(-x^2)\n",
        "}\n",
        "\n",
        "//  paralela del  de Simpson 1/3 compuesto\n",
        "double simpson(double a, double b, int n) {\n",
        "    double h = (b - a) / n;\n",
        "    double sum_odd = 0.0, sum_even = 0.0, result = 0.0;\n",
        "\n",
        "    // Calcular  impares en paralelo\n",
        "    #pragma omp parallel for reduction(+:sum_odd)\n",
        "    for (int i = 1; i <= n - 1; i += 2) {\n",
        "        sum_odd += f(a + i * h);\n",
        "    }\n",
        "\n",
        "    // Calcular  pares en paralelo\n",
        "    #pragma omp parallel for reduction(+:sum_even)\n",
        "    for (int i = 2; i <= n - 2; i += 2) {\n",
        "        sum_even += f(a + i * h);\n",
        "    }\n",
        "\n",
        "    //  la fórmula de Simpson\n",
        "    result = (h / 3) * (f(a) + 4 * sum_odd + 2 * sum_even + f(b));\n",
        "\n",
        "    return result;\n",
        "}\n",
        "\n",
        "int main() {\n",
        "    double a = -1.0, b = 1.0;\n",
        "    int n = 20;  // Número de subintervalos\n",
        "\n",
        "    // Medir el tiempo de la implementación paralela\n",
        "    double start_time = omp_get_wtime();\n",
        "    double result_paralelo = simpson(a, b, n);\n",
        "    double end_time = omp_get_wtime();\n",
        "    double tiempoParalelo = end_time - start_time;\n",
        "\n",
        "    int num_threads;\n",
        "    #pragma omp parallel\n",
        "    {\n",
        "        num_threads = omp_get_num_threads();\n",
        "    }\n",
        "    //Calculo el tiempo secuencial\n",
        "    double tiempoSecuencial = tiempoParalelo * num_threads;\n",
        "    // Calcular el speedup\n",
        "    double speedup = tiempoSecuencial / tiempoParalelo;\n",
        "\n",
        "    printf(\"Resultado paralelo: %f\\n\", result_paralelo);\n",
        "    printf(\"Tiempo paralelo: %f segundos\\n\", tiempoParalelo);\n",
        "    printf(\"Tiempo secuencial estimado: %f segundos\\n\", tiempoSecuencial);\n",
        "    printf(\"Speedup: %f\\n\", speedup);\n",
        "\n",
        "    return 0;\n",
        "}\n"
      ],
      "metadata": {
        "id": "SEtdDebuZEUs"
      },
      "execution_count": null,
      "outputs": []
    },
    {
      "cell_type": "markdown",
      "source": [
        "**Explicacion del paralelismo implementado en Método de Simpson 1/3 de aplicación compuesta**\n",
        "\n",
        "El uso de OpenMP permite dividir el trabajo entre múltiples hilos, lo que mejora la eficiencia en la ejecución del cálculo de la integral. Las directivas #pragma omp parallel for  reduction aseguran que el código se ejecute eficientemente en paralelo, al tiempo que evita conflictos entre hilos. Este enfoque es especialmente efectivo en problemas que pueden dividirse en tareas independientes, como es el caso de la evaluación de la función en los subintervalos del método de Simpson."
      ],
      "metadata": {
        "id": "ssvRqRAhfLy8"
      }
    },
    {
      "cell_type": "markdown",
      "source": [
        "###**Metodo Simpson 3/8 de aplicacion multiple**\n",
        "\n",
        "El método de Simpson 3/8 de aplicación múltiple es una extensión del método de Simpson 3/8 simple, diseñado para aproximar integrales definidas de funciones continuas sobre intervalos más grandes. Esta técnica mejora la precisión al dividir el intervalo en varios subintervalos.\n",
        "\n",
        "#### Características Principales\n",
        "\n",
        "1. **División del Intervalo**: El intervalo \\([a, b]\\) se divide en \\(n\\) subintervalos, donde \\(n\\) debe ser un múltiplo de 3. Esto permite formar grupos de cuatro puntos consecutivos en cada subintervalo.\n",
        "\n",
        "2. **Evaluación de la Función**: A lo largo de los subintervalos, la función \\(f(x)\\) se evalúa en múltiples puntos. Para cada grupo de cuatro puntos, se aplica la fórmula de Simpson 3/8, sumando los resultados de todos los grupos para obtener la aproximación total de la integral.\n",
        "\n",
        "3. **Fórmula General**: La integral definida:\n",
        "$$\n",
        "   \\\n",
        "   I = \\int_a^b f(x) \\, dx\n",
        "   \\\n",
        "   $$\n",
        "\n",
        "   se aproxima como:\n",
        "$$\n",
        "   \\\n",
        "   I \\approx \\frac{3h}{8} \\left[ f(a) + 3 \\sum_{i=1}^{m} f(x_{3i-2}) + 3 \\sum_{i=1}^{m} f(x_{3i-1}) + f(b) \\right]\n",
        "   \\\n",
        "$$\n",
        "   donde $$ m = \\frac{n}{3}\\ $$ es el número de grupos de cuatro puntos y$$ h = \\frac{b - a}{n}\\ $$ es el ancho de cada subintervalo.\n",
        "\n",
        "4. **Precisión Aumentada**: Al evaluar la función en más puntos y aplicar la fórmula de Simpson 3/8 a cada grupo de cuatro puntos, el método múltiple proporciona una aproximación más precisa de la integral en comparación con el método simple.\n",
        "\n",
        "#### Ventajas del Método de Simpson 3/8 Múltiple\n",
        "\n",
        "La aproximación mejora al incluir más puntos de evaluación, lo que es particularmente beneficioso para funciones con curvaturas complejas.\n",
        "Puede aplicarse a intervalos de cualquier longitud, siempre que el número de subintervalos sea un múltiplo de 3, lo que permite adaptarse a diferentes problemas de integración.\n",
        "Al dividir el trabajo entre múltiples subintervalos, es posible optimizar la implementación en paralelo, mejorando el rendimiento en sistemas con múltiples núcleos."
      ],
      "metadata": {
        "id": "IO2TdIIMyM6S"
      }
    },
    {
      "cell_type": "code",
      "source": [
        "#include <cmath>\n",
        "#include <cstdio>\n",
        "#include <omp.h>\n",
        "//Para ejecutar el codigo en paralelo\n",
        "\n",
        "double f(double x) {\n",
        "    return exp(-x * x);  // f(x) = e^(-x^2)\n",
        "}\n",
        "\n",
        "\n",
        "//metodo de Simpson 3/8 multiple (paralela)\n",
        "double simpson_3_8(double a, double b, int n) {\n",
        "    if (n % 3 != 0) {\n",
        "        printf(\"n debe ser un múltiplo de 3\\n\");\n",
        "        return -1;\n",
        "    }\n",
        "\n",
        "    double h = (b - a) / n;\n",
        "    double result = 0.0;\n",
        "\n",
        "    // Aplicar la regla de Simpson 3/8 en paralelo\n",
        "    #pragma omp parallel\n",
        "    {\n",
        "        double local_sum = 0.0;\n",
        "\n",
        "        #pragma omp for\n",
        "        for (int i = 0; i <= n; ++i) {\n",
        "            double x = a + i * h;\n",
        "\n",
        "            if (i == 0 || i == n) {\n",
        "                local_sum += f(x); // f(a) + f(b)\n",
        "            } else if (i % 3 == 0) {\n",
        "                local_sum += 2 * f(x); // 2 * f(x_{3i})\n",
        "            } else {\n",
        "                local_sum += 3 * f(x); // 3 * f(x_{i})\n",
        "            }\n",
        "        }\n",
        "\n",
        "        // Sumar resultados locales\n",
        "        #pragma omp atomic\n",
        "        result += local_sum;\n",
        "    }\n",
        "\n",
        "    result *= (3.0 / 8.0) * h; // Multiplicar por 3/8 * h\n",
        "\n",
        "    return result;\n",
        "}\n",
        "\n",
        "int main() {\n",
        "    double a = -1.0, b = 1.0;\n",
        "    int n = 30;\n",
        "\n",
        "    // Medir el tiempo de la implementación paralela\n",
        "    double start_time = omp_get_wtime();\n",
        "    double result_paralelo = simpson_3_8(a, b, n);\n",
        "    double end_time = omp_get_wtime();\n",
        "    double tiempoParalelo = end_time - start_time;\n",
        "\n",
        "    int num_threads;\n",
        "    #pragma omp parallel\n",
        "    {\n",
        "        num_threads = omp_get_num_threads();\n",
        "    }\n",
        "    //Calculo el tiempo secuencial\n",
        "    double tiempoSecuencial = tiempoParalelo * num_threads;\n",
        "    // Calcular el speedup\n",
        "    double speedup = tiempoSecuencial / tiempoParalelo;\n",
        "\n",
        "    printf(\"Resultado paralelo: %f\\n\", result_paralelo);\n",
        "    printf(\"Tiempo paralelo: %f segundos\\n\", tiempoParalelo);\n",
        "    printf(\"Tiempo secuencial estimado: %f segundos\\n\", tiempoSecuencial);\n",
        "    printf(\"Speedup: %f\\n\", speedup);\n",
        "\n",
        "    return 0;\n",
        "}\n"
      ],
      "metadata": {
        "id": "NDBG4y38ddgG"
      },
      "execution_count": null,
      "outputs": []
    },
    {
      "cell_type": "markdown",
      "source": [
        "### Explicación del Paralelismo en el Método de Simpson 3/8 de Aplicación Múltiple\n",
        "\n",
        "La implementación del Método de Simpson 3/8 de aplicación múltiple en paralelo es particularmente ventajosa para integrar funciones complejas sobre intervalos extensos, donde el tiempo de cómputo puede ser significativo. Al aprovechar los recursos del hardware, se mejora la eficiencia en la aproximación de integrales definidas.\n",
        "\n",
        "#### Proceso de Implementación:\n",
        "\n",
        "1. **División del Trabajo**:\n",
        "   En lugar de calcular la integral en un solo hilo, el trabajo se distribuye entre varios hilos. Esto se logra mediante la directiva #pragma omp parallel, que establece un entorno de ejecución paralelo. Los intervalos se dividen en grupos de cuatro puntos para aplicar la regla de Simpson 3/8.\n",
        "\n",
        "2. **Suma Local**:\n",
        "   Cada hilo calcula una suma local para su sección del intervalo. En un bucle, se evalúan los puntos de la función \\( f(x) \\) y se acumulan los resultados en la variable local_sum. Este enfoque evita conflictos al permitir que cada hilo maneje su propia suma de manera independiente.\n",
        "\n",
        "3. **Reducción de Resultados**:\n",
        "   Al finalizar los cálculos, las sumas locales se combinan en una suma global. La directiva #pragma omp atomic se utiliza para garantizar que la operación de suma en la variable compartida sea segura, evitando condiciones de carrera entre hilos.\n",
        "\n",
        "4. **Ejecución Concurrente**:\n",
        "   La paralelización permite que múltiples hilos realicen cálculos simultáneamente, lo que resulta en una reducción significativa del tiempo de ejecución, especialmente en sistemas con múltiples núcleos. Esto hace que el método sea adecuado para aplicaciones donde la velocidad de cálculo es crítica.\n",
        "\n",
        "En resumen, el uso del paralelismo en el Método de Simpson 3/8 de aplicación múltiple no solo mejora la eficiencia del cálculo, sino que también maximiza el aprovechamiento de los recursos disponibles en el hardware.\n"
      ],
      "metadata": {
        "id": "sZmKJXZn2fPH"
      }
    },
    {
      "cell_type": "markdown",
      "metadata": {
        "id": "lZCS17AuBsy5"
      },
      "source": [
        "## **6. Ejercicio de evaluación**"
      ]
    },
    {
      "cell_type": "markdown",
      "metadata": {
        "id": "-SZF_kbUBsy6"
      },
      "source": [
        "Dada la función:\n",
        "\n",
        "$$\n",
        "f(x) = e^{-x^{2}}\n",
        "$$\n",
        "\n",
        "calcular la integral de esta función en el intervalo $[-1, 1]$ utilizando los siguientes métodos de integración numérica, implementando tanto versiones secuenciales como paralelas de los algoritmos:\n",
        "\n",
        "- [Método de Simpson 1/3 de aplicación simple](https://en.wikipedia.org/wiki/Simpson%27s_rule)\n",
        "- [Método de Simpson 3/8 de aplicación simple](https://en.wikipedia.org/wiki/Simpson%27s_rule#Simpson's_3/8_rule)\n",
        "- [Método de Simpson 1/3 de aplicación compuesta](https://en.wikipedia.org/wiki/Simpson%27s_rule#Composite_Simpson's_1/3_rule)\n",
        "- [Método de Simpson 3/8 de aplicación múltiple](https://en.wikipedia.org/wiki/Simpson%27s_rule#Composite_Simpson's_3/8_rule)\n",
        "\n",
        "Para cada uno de los métodos, medir los tiempos de ejecución paralela y serial, y calcular el **speedup** obtenido con la paralelización."
      ]
    },
    {
      "cell_type": "markdown",
      "metadata": {
        "id": "oHC2H6lEBsy6"
      },
      "source": [
        "## **7. Entrega**\n",
        "\n",
        "- La actividad podrá ser realizada en parejas.\n",
        "- La fecha y hora máxima de entrega es el día lunes 4 de noviembre hasta las 11:59 pm.\n",
        "- Complementar este archivo en Jupyter Notebook con los otros tres métodos faltantes. Realizar una breve explicación teórica de cada uno y su respectiva explicación de la implementación paralela (usar de base este mismo ejemplo de Simpson1/3)\n",
        "- Solo uno de los integrantes subirá por InteractivaVirtual un único archivo comprimido con los archivos en `c` y este jupyter notebook completado. En el espacio de entrega en donde se ponen mensajes, indicar el nombre completo del compañero.\n",
        "- Las dudas se irán resolviendo por el chat grupal de TEAMS.\n",
        "\n",
        "ÉXITOS!"
      ]
    },
    {
      "cell_type": "markdown",
      "source": [],
      "metadata": {
        "id": "nLuwcmZkqHsE"
      }
    },
    {
      "cell_type": "markdown",
      "metadata": {
        "id": "7DylUGCpBsy6"
      },
      "source": []
    }
  ],
  "metadata": {
    "kernelspec": {
      "display_name": "Python 3 (ipykernel)",
      "language": "python",
      "name": "python3"
    },
    "language_info": {
      "codemirror_mode": {
        "name": "ipython",
        "version": 3
      },
      "file_extension": ".py",
      "mimetype": "text/x-python",
      "name": "python",
      "nbconvert_exporter": "python",
      "pygments_lexer": "ipython3",
      "version": "3.12.4"
    },
    "colab": {
      "provenance": []
    }
  },
  "nbformat": 4,
  "nbformat_minor": 0
}